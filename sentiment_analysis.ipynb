{
 "cells": [
  {
   "cell_type": "code",
   "execution_count": 1,
   "metadata": {},
   "outputs": [],
   "source": [
    "import spacy \n",
    "\n",
    "nlp = spacy.load('en_core_web_sm')\n",
    "import numpy as np\n",
    "import pandas as pd\n",
    "\n",
    "#this is used to load the spacy model for our preprocessing and use pf NLP"
   ]
  },
  {
   "cell_type": "code",
   "execution_count": null,
   "metadata": {},
   "outputs": [],
   "source": [
    "\n",
    "amazon_reviews = pd.read_csv ('amazon_product_reviews.csv')\n",
    "\n",
    "amazon_reviews.head()\n",
    "#pandas is imported to be able to extract the dataframe"
   ]
  },
  {
   "cell_type": "code",
   "execution_count": null,
   "metadata": {},
   "outputs": [],
   "source": [
    "amazon_reviews.info()\n",
    "#this shows the information of the dataframe"
   ]
  },
  {
   "cell_type": "code",
   "execution_count": 29,
   "metadata": {},
   "outputs": [
    {
     "data": {
      "text/html": [
       "<div>\n",
       "<style scoped>\n",
       "    .dataframe tbody tr th:only-of-type {\n",
       "        vertical-align: middle;\n",
       "    }\n",
       "\n",
       "    .dataframe tbody tr th {\n",
       "        vertical-align: top;\n",
       "    }\n",
       "\n",
       "    .dataframe thead th {\n",
       "        text-align: right;\n",
       "    }\n",
       "</style>\n",
       "<table border=\"1\" class=\"dataframe\">\n",
       "  <thead>\n",
       "    <tr style=\"text-align: right;\">\n",
       "      <th></th>\n",
       "      <th>reviews.text</th>\n",
       "    </tr>\n",
       "  </thead>\n",
       "  <tbody>\n",
       "    <tr>\n",
       "      <th>0</th>\n",
       "      <td>I thought it would be as big as small paper bu...</td>\n",
       "    </tr>\n",
       "    <tr>\n",
       "      <th>1</th>\n",
       "      <td>This kindle is light and easy to use especiall...</td>\n",
       "    </tr>\n",
       "    <tr>\n",
       "      <th>2</th>\n",
       "      <td>Didnt know how much i'd use a kindle so went f...</td>\n",
       "    </tr>\n",
       "    <tr>\n",
       "      <th>3</th>\n",
       "      <td>I am 100 happy with my purchase. I caught it o...</td>\n",
       "    </tr>\n",
       "    <tr>\n",
       "      <th>4</th>\n",
       "      <td>Solid entry level Kindle. Great for kids. Gift...</td>\n",
       "    </tr>\n",
       "    <tr>\n",
       "      <th>5</th>\n",
       "      <td>This make an excellent ebook reader. Don't exp...</td>\n",
       "    </tr>\n",
       "    <tr>\n",
       "      <th>6</th>\n",
       "      <td>I ordered this for my daughter, as I have the ...</td>\n",
       "    </tr>\n",
       "    <tr>\n",
       "      <th>7</th>\n",
       "      <td>I bought my Kindle about 2 months ago and the ...</td>\n",
       "    </tr>\n",
       "    <tr>\n",
       "      <th>8</th>\n",
       "      <td>amazon kindle is always the best ebook, upgrad...</td>\n",
       "    </tr>\n",
       "  </tbody>\n",
       "</table>\n",
       "</div>"
      ],
      "text/plain": [
       "                                        reviews.text\n",
       "0  I thought it would be as big as small paper bu...\n",
       "1  This kindle is light and easy to use especiall...\n",
       "2  Didnt know how much i'd use a kindle so went f...\n",
       "3  I am 100 happy with my purchase. I caught it o...\n",
       "4  Solid entry level Kindle. Great for kids. Gift...\n",
       "5  This make an excellent ebook reader. Don't exp...\n",
       "6  I ordered this for my daughter, as I have the ...\n",
       "7  I bought my Kindle about 2 months ago and the ...\n",
       "8  amazon kindle is always the best ebook, upgrad..."
      ]
     },
     "execution_count": 29,
     "metadata": {},
     "output_type": "execute_result"
    }
   ],
   "source": [
    "amazon_reviews = amazon_reviews[['reviews.text']]\n",
    "amazon_reviews.head()\n",
    "#this extracts just the reviews.text aspect of the dataframe"
   ]
  },
  {
   "cell_type": "code",
   "execution_count": null,
   "metadata": {},
   "outputs": [],
   "source": [
    "clean_data = amazon_reviews.dropna(subset=['reviews.text'])\n",
    "selected_reviews = amazon_reviews.sample2\n",
    "amazon_reviews.head()\n",
    "#this takes the missing values away from the reviews.text column"
   ]
  },
  {
   "cell_type": "code",
   "execution_count": null,
   "metadata": {},
   "outputs": [],
   "source": [
    "def analze_polarity(amazon_reviews):\n",
    "    doc = nlp(amazon_reviews)\n",
    "\n",
    "blob = TextBlob(amazon_reviews)\n",
    "polarity = blob.sentiment.polarity\n",
    "\n",
    "return polarity\n",
    "\n",
    "#textblob has been installed but is unfortunately not loading, anyway\n",
    "#this function is here to analyse the sentiment of the reviews"
   ]
  },
  {
   "cell_type": "code",
   "execution_count": null,
   "metadata": {},
   "outputs": [],
   "source": [
    "review = \"This kindle is light and easy to use especially at the beach!!!\"\n",
    "polarity_score = analze_polarity(amazon_reviews)\n",
    "\n",
    "if polarity_score > 0:\n",
    "    sentiment = 'good'\n",
    "elif polarity_score < 0:\n",
    "    sentiment = 'bad'\n",
    "else:\n",
    "    sentiment = 'okay'\n",
    "\n",
    "print(f\"Review: {amazon_reviews}\\nPolarity Score: {polarity_score}\\nSentiment Score: {sentiment}\")\n",
    "\n",
    "#this ifelif statement will give a rating on the polarity score based on the similarity found through the function"
   ]
  },
  {
   "cell_type": "code",
   "execution_count": 6,
   "metadata": {},
   "outputs": [
    {
     "name": "stdout",
     "output_type": "stream",
     "text": [
      "show similarity: 0.46\n",
      "show similarity: 0.20\n"
     ]
    },
    {
     "name": "stderr",
     "output_type": "stream",
     "text": [
      "/var/folders/pq/29_dgnlj7wx1365dh3skh5vh0000gn/T/ipykernel_15517/1943509097.py:6: UserWarning: [W007] The model you're using has no word vectors loaded, so the result of the Doc.similarity method will be based on the tagger, parser and NER, which may not give useful similarity judgements. This may happen if you're using one of the small models, e.g. `en_core_web_sm`, which don't ship with word vectors and only use context-sensitive tensors. You can always add your own word vectors, or use one of the larger models instead if available.\n",
      "  similarity = review1.similarity(review2)\n",
      "/var/folders/pq/29_dgnlj7wx1365dh3skh5vh0000gn/T/ipykernel_15517/1943509097.py:12: UserWarning: [W007] The model you're using has no word vectors loaded, so the result of the Doc.similarity method will be based on the tagger, parser and NER, which may not give useful similarity judgements. This may happen if you're using one of the small models, e.g. `en_core_web_sm`, which don't ship with word vectors and only use context-sensitive tensors. You can always add your own word vectors, or use one of the larger models instead if available.\n",
      "  similarity = review3.similarity(review4)\n"
     ]
    }
   ],
   "source": [
    "#because textblob isn't working I will extract two reviews and compare the similarity between the two.\n",
    "\n",
    "review1 = nlp(\"Didnt know how much i'd use a kindle so went for the lower end. im happy with it, even if its a little dark\")\n",
    "review2 = nlp(\"the future of reading you just have this and it is like a whole library\")\n",
    "\n",
    "similarity = review1.similarity(review2)\n",
    "print(f\"show similarity: {similarity:.2f}\")\n",
    "\n",
    "review3 = nlp(\"I love the Kindle, it is a great product. It reduces eye strain so I enjoy reading on it. This is my second Kindle.\")\n",
    "review4 = nlp(\"Good, able to read under bright sunlight conditions too\")\n",
    "\n",
    "similarity = review3.similarity(review4)\n",
    "print(f\"show similarity: {similarity:.2f}\")"
   ]
  }
 ],
 "metadata": {
  "kernelspec": {
   "display_name": "Python 3",
   "language": "python",
   "name": "python3"
  },
  "language_info": {
   "codemirror_mode": {
    "name": "ipython",
    "version": 3
   },
   "file_extension": ".py",
   "mimetype": "text/x-python",
   "name": "python",
   "nbconvert_exporter": "python",
   "pygments_lexer": "ipython3",
   "version": "3.12.1"
  }
 },
 "nbformat": 4,
 "nbformat_minor": 2
}
